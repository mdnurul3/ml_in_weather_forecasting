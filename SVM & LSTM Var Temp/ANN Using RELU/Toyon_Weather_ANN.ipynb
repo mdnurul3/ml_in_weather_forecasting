{
 "cells": [
  {
   "cell_type": "code",
   "execution_count": 2,
   "metadata": {},
   "outputs": [],
   "source": [
    "import pandas as pd\n",
    "import numpy as np\n",
    "import matplotlib.pyplot as plt\n",
    "import seaborn as sns\n",
    "from sklearn.model_selection import train_test_split\n",
    "from sklearn.preprocessing import MinMaxScaler\n",
    "from tensorflow.keras.models import Sequential\n",
    "from tensorflow.keras.layers import Dense,Dropout\n",
    "from sklearn.metrics import mean_squared_error, mean_absolute_error,explained_variance_score"
   ]
  },
  {
   "cell_type": "code",
   "execution_count": 3,
   "metadata": {},
   "outputs": [],
   "source": [
    "df=pd.read_csv('weather-raw_2020.csv')"
   ]
  },
  {
   "cell_type": "code",
   "execution_count": 4,
   "metadata": {},
   "outputs": [
    {
     "data": {
      "text/plain": [
       "Date                                  0\n",
       "Temp                                  0\n",
       "Humidity (%)                        670\n",
       "Dew Point (Celcius * 10)            621\n",
       "Pressure (mBar)                     347\n",
       "Mean wind speed (knots * 10)        696\n",
       "Average wind bearing (degrees)    18391\n",
       "Sunshine (hours * 100)                0\n",
       "Rainfall (mm * 1000)                  0\n",
       "dtype: int64"
      ]
     },
     "execution_count": 4,
     "metadata": {},
     "output_type": "execute_result"
    }
   ],
   "source": [
    "df.isnull().sum()"
   ]
  },
  {
   "cell_type": "code",
   "execution_count": 5,
   "metadata": {},
   "outputs": [],
   "source": [
    "#df=df.drop(['Date'],axis=1)\n",
    "df=df.fillna(0)"
   ]
  },
  {
   "cell_type": "code",
   "execution_count": 6,
   "metadata": {},
   "outputs": [
    {
     "data": {
      "text/plain": [
       "Date                              0\n",
       "Temp                              0\n",
       "Humidity (%)                      0\n",
       "Dew Point (Celcius * 10)          0\n",
       "Pressure (mBar)                   0\n",
       "Mean wind speed (knots * 10)      0\n",
       "Average wind bearing (degrees)    0\n",
       "Sunshine (hours * 100)            0\n",
       "Rainfall (mm * 1000)              0\n",
       "dtype: int64"
      ]
     },
     "execution_count": 6,
     "metadata": {},
     "output_type": "execute_result"
    }
   ],
   "source": [
    "df.isnull().sum()"
   ]
  },
  {
   "cell_type": "code",
   "execution_count": 7,
   "metadata": {},
   "outputs": [
    {
     "data": {
      "text/html": [
       "<div>\n",
       "<style scoped>\n",
       "    .dataframe tbody tr th:only-of-type {\n",
       "        vertical-align: middle;\n",
       "    }\n",
       "\n",
       "    .dataframe tbody tr th {\n",
       "        vertical-align: top;\n",
       "    }\n",
       "\n",
       "    .dataframe thead th {\n",
       "        text-align: right;\n",
       "    }\n",
       "</style>\n",
       "<table border=\"1\" class=\"dataframe\">\n",
       "  <thead>\n",
       "    <tr style=\"text-align: right;\">\n",
       "      <th></th>\n",
       "      <th>Date</th>\n",
       "      <th>Temp</th>\n",
       "      <th>Humidity (%)</th>\n",
       "      <th>Dew Point (Celcius * 10)</th>\n",
       "      <th>Pressure (mBar)</th>\n",
       "      <th>Mean wind speed (knots * 10)</th>\n",
       "      <th>Average wind bearing (degrees)</th>\n",
       "      <th>Sunshine (hours * 100)</th>\n",
       "      <th>Rainfall (mm * 1000)</th>\n",
       "    </tr>\n",
       "  </thead>\n",
       "  <tbody>\n",
       "    <tr>\n",
       "      <th>0</th>\n",
       "      <td>6/30/1995</td>\n",
       "      <td>30.5</td>\n",
       "      <td>36.0</td>\n",
       "      <td>140.0</td>\n",
       "      <td>1013.0</td>\n",
       "      <td>13.0</td>\n",
       "      <td>315.0</td>\n",
       "      <td>50</td>\n",
       "      <td>0</td>\n",
       "    </tr>\n",
       "    <tr>\n",
       "      <th>1</th>\n",
       "      <td>6/30/1995</td>\n",
       "      <td>31.1</td>\n",
       "      <td>41.0</td>\n",
       "      <td>163.0</td>\n",
       "      <td>1013.0</td>\n",
       "      <td>12.0</td>\n",
       "      <td>315.0</td>\n",
       "      <td>51</td>\n",
       "      <td>0</td>\n",
       "    </tr>\n",
       "    <tr>\n",
       "      <th>2</th>\n",
       "      <td>6/30/1995</td>\n",
       "      <td>32.2</td>\n",
       "      <td>43.0</td>\n",
       "      <td>181.0</td>\n",
       "      <td>1013.0</td>\n",
       "      <td>2.0</td>\n",
       "      <td>315.0</td>\n",
       "      <td>50</td>\n",
       "      <td>0</td>\n",
       "    </tr>\n",
       "    <tr>\n",
       "      <th>3</th>\n",
       "      <td>6/30/1995</td>\n",
       "      <td>32.7</td>\n",
       "      <td>41.0</td>\n",
       "      <td>178.0</td>\n",
       "      <td>1013.0</td>\n",
       "      <td>8.0</td>\n",
       "      <td>225.0</td>\n",
       "      <td>51</td>\n",
       "      <td>0</td>\n",
       "    </tr>\n",
       "    <tr>\n",
       "      <th>4</th>\n",
       "      <td>6/30/1995</td>\n",
       "      <td>32.2</td>\n",
       "      <td>43.0</td>\n",
       "      <td>181.0</td>\n",
       "      <td>1012.0</td>\n",
       "      <td>17.0</td>\n",
       "      <td>0.0</td>\n",
       "      <td>51</td>\n",
       "      <td>0</td>\n",
       "    </tr>\n",
       "    <tr>\n",
       "      <th>...</th>\n",
       "      <td>...</td>\n",
       "      <td>...</td>\n",
       "      <td>...</td>\n",
       "      <td>...</td>\n",
       "      <td>...</td>\n",
       "      <td>...</td>\n",
       "      <td>...</td>\n",
       "      <td>...</td>\n",
       "      <td>...</td>\n",
       "    </tr>\n",
       "    <tr>\n",
       "      <th>111</th>\n",
       "      <td>7/2/1995</td>\n",
       "      <td>12.7</td>\n",
       "      <td>84.0</td>\n",
       "      <td>100.0</td>\n",
       "      <td>1004.0</td>\n",
       "      <td>0.0</td>\n",
       "      <td>0.0</td>\n",
       "      <td>0</td>\n",
       "      <td>140</td>\n",
       "    </tr>\n",
       "    <tr>\n",
       "      <th>112</th>\n",
       "      <td>7/2/1995</td>\n",
       "      <td>12.7</td>\n",
       "      <td>79.0</td>\n",
       "      <td>92.0</td>\n",
       "      <td>1004.0</td>\n",
       "      <td>3.0</td>\n",
       "      <td>45.0</td>\n",
       "      <td>0</td>\n",
       "      <td>90</td>\n",
       "    </tr>\n",
       "    <tr>\n",
       "      <th>113</th>\n",
       "      <td>7/2/1995</td>\n",
       "      <td>12.7</td>\n",
       "      <td>84.0</td>\n",
       "      <td>100.0</td>\n",
       "      <td>1004.0</td>\n",
       "      <td>0.0</td>\n",
       "      <td>0.0</td>\n",
       "      <td>0</td>\n",
       "      <td>20</td>\n",
       "    </tr>\n",
       "    <tr>\n",
       "      <th>114</th>\n",
       "      <td>7/2/1995</td>\n",
       "      <td>12.7</td>\n",
       "      <td>84.0</td>\n",
       "      <td>100.0</td>\n",
       "      <td>1004.0</td>\n",
       "      <td>0.0</td>\n",
       "      <td>0.0</td>\n",
       "      <td>0</td>\n",
       "      <td>0</td>\n",
       "    </tr>\n",
       "    <tr>\n",
       "      <th>115</th>\n",
       "      <td>7/2/1995</td>\n",
       "      <td>12.7</td>\n",
       "      <td>84.0</td>\n",
       "      <td>100.0</td>\n",
       "      <td>1004.0</td>\n",
       "      <td>4.0</td>\n",
       "      <td>0.0</td>\n",
       "      <td>0</td>\n",
       "      <td>0</td>\n",
       "    </tr>\n",
       "  </tbody>\n",
       "</table>\n",
       "<p>116 rows × 9 columns</p>\n",
       "</div>"
      ],
      "text/plain": [
       "          Date  Temp  Humidity (%)  Dew Point (Celcius * 10)  Pressure (mBar)  \\\n",
       "0    6/30/1995  30.5          36.0                     140.0           1013.0   \n",
       "1    6/30/1995  31.1          41.0                     163.0           1013.0   \n",
       "2    6/30/1995  32.2          43.0                     181.0           1013.0   \n",
       "3    6/30/1995  32.7          41.0                     178.0           1013.0   \n",
       "4    6/30/1995  32.2          43.0                     181.0           1012.0   \n",
       "..         ...   ...           ...                       ...              ...   \n",
       "111   7/2/1995  12.7          84.0                     100.0           1004.0   \n",
       "112   7/2/1995  12.7          79.0                      92.0           1004.0   \n",
       "113   7/2/1995  12.7          84.0                     100.0           1004.0   \n",
       "114   7/2/1995  12.7          84.0                     100.0           1004.0   \n",
       "115   7/2/1995  12.7          84.0                     100.0           1004.0   \n",
       "\n",
       "     Mean wind speed (knots * 10)  Average wind bearing (degrees)  \\\n",
       "0                            13.0                           315.0   \n",
       "1                            12.0                           315.0   \n",
       "2                             2.0                           315.0   \n",
       "3                             8.0                           225.0   \n",
       "4                            17.0                             0.0   \n",
       "..                            ...                             ...   \n",
       "111                           0.0                             0.0   \n",
       "112                           3.0                            45.0   \n",
       "113                           0.0                             0.0   \n",
       "114                           0.0                             0.0   \n",
       "115                           4.0                             0.0   \n",
       "\n",
       "     Sunshine (hours * 100)  Rainfall (mm * 1000)  \n",
       "0                        50                     0  \n",
       "1                        51                     0  \n",
       "2                        50                     0  \n",
       "3                        51                     0  \n",
       "4                        51                     0  \n",
       "..                      ...                   ...  \n",
       "111                       0                   140  \n",
       "112                       0                    90  \n",
       "113                       0                    20  \n",
       "114                       0                     0  \n",
       "115                       0                     0  \n",
       "\n",
       "[116 rows x 9 columns]"
      ]
     },
     "execution_count": 7,
     "metadata": {},
     "output_type": "execute_result"
    }
   ],
   "source": [
    "#df=df.values\n",
    "df.head(116)"
   ]
  },
  {
   "cell_type": "code",
   "execution_count": 8,
   "metadata": {},
   "outputs": [
    {
     "data": {
      "text/plain": [
       "0        1995-06-30\n",
       "1        1995-06-30\n",
       "2        1995-06-30\n",
       "3        1995-06-30\n",
       "4        1995-06-30\n",
       "            ...    \n",
       "439224   2020-11-12\n",
       "439225   2020-11-12\n",
       "439226   2020-11-12\n",
       "439227   2020-11-12\n",
       "439228   2020-11-12\n",
       "Name: Date, Length: 439229, dtype: datetime64[ns]"
      ]
     },
     "execution_count": 8,
     "metadata": {},
     "output_type": "execute_result"
    }
   ],
   "source": [
    "df.columns\n",
    "df['Date']=pd.to_datetime(df['Date'])\n",
    "df['Date']"
   ]
  },
  {
   "cell_type": "code",
   "execution_count": 9,
   "metadata": {},
   "outputs": [],
   "source": [
    "df['Year']=df['Date'].apply(lambda date: date.year)\n",
    "df['Month']=df['Date'].apply(lambda date: date.month)\n",
    "df=df.drop(['Date'],axis=1)"
   ]
  },
  {
   "cell_type": "code",
   "execution_count": 10,
   "metadata": {},
   "outputs": [
    {
     "data": {
      "text/html": [
       "<div>\n",
       "<style scoped>\n",
       "    .dataframe tbody tr th:only-of-type {\n",
       "        vertical-align: middle;\n",
       "    }\n",
       "\n",
       "    .dataframe tbody tr th {\n",
       "        vertical-align: top;\n",
       "    }\n",
       "\n",
       "    .dataframe thead th {\n",
       "        text-align: right;\n",
       "    }\n",
       "</style>\n",
       "<table border=\"1\" class=\"dataframe\">\n",
       "  <thead>\n",
       "    <tr style=\"text-align: right;\">\n",
       "      <th></th>\n",
       "      <th>Temp</th>\n",
       "      <th>Humidity (%)</th>\n",
       "      <th>Dew Point (Celcius * 10)</th>\n",
       "      <th>Pressure (mBar)</th>\n",
       "      <th>Mean wind speed (knots * 10)</th>\n",
       "      <th>Average wind bearing (degrees)</th>\n",
       "      <th>Sunshine (hours * 100)</th>\n",
       "      <th>Rainfall (mm * 1000)</th>\n",
       "      <th>Year</th>\n",
       "      <th>Month</th>\n",
       "    </tr>\n",
       "  </thead>\n",
       "  <tbody>\n",
       "    <tr>\n",
       "      <th>0</th>\n",
       "      <td>30.5</td>\n",
       "      <td>36.0</td>\n",
       "      <td>140.0</td>\n",
       "      <td>1013.0</td>\n",
       "      <td>13.0</td>\n",
       "      <td>315.0</td>\n",
       "      <td>50</td>\n",
       "      <td>0</td>\n",
       "      <td>1995</td>\n",
       "      <td>6</td>\n",
       "    </tr>\n",
       "    <tr>\n",
       "      <th>1</th>\n",
       "      <td>31.1</td>\n",
       "      <td>41.0</td>\n",
       "      <td>163.0</td>\n",
       "      <td>1013.0</td>\n",
       "      <td>12.0</td>\n",
       "      <td>315.0</td>\n",
       "      <td>51</td>\n",
       "      <td>0</td>\n",
       "      <td>1995</td>\n",
       "      <td>6</td>\n",
       "    </tr>\n",
       "    <tr>\n",
       "      <th>2</th>\n",
       "      <td>32.2</td>\n",
       "      <td>43.0</td>\n",
       "      <td>181.0</td>\n",
       "      <td>1013.0</td>\n",
       "      <td>2.0</td>\n",
       "      <td>315.0</td>\n",
       "      <td>50</td>\n",
       "      <td>0</td>\n",
       "      <td>1995</td>\n",
       "      <td>6</td>\n",
       "    </tr>\n",
       "    <tr>\n",
       "      <th>3</th>\n",
       "      <td>32.7</td>\n",
       "      <td>41.0</td>\n",
       "      <td>178.0</td>\n",
       "      <td>1013.0</td>\n",
       "      <td>8.0</td>\n",
       "      <td>225.0</td>\n",
       "      <td>51</td>\n",
       "      <td>0</td>\n",
       "      <td>1995</td>\n",
       "      <td>6</td>\n",
       "    </tr>\n",
       "    <tr>\n",
       "      <th>4</th>\n",
       "      <td>32.2</td>\n",
       "      <td>43.0</td>\n",
       "      <td>181.0</td>\n",
       "      <td>1012.0</td>\n",
       "      <td>17.0</td>\n",
       "      <td>0.0</td>\n",
       "      <td>51</td>\n",
       "      <td>0</td>\n",
       "      <td>1995</td>\n",
       "      <td>6</td>\n",
       "    </tr>\n",
       "  </tbody>\n",
       "</table>\n",
       "</div>"
      ],
      "text/plain": [
       "   Temp  Humidity (%)  Dew Point (Celcius * 10)  Pressure (mBar)  \\\n",
       "0  30.5          36.0                     140.0           1013.0   \n",
       "1  31.1          41.0                     163.0           1013.0   \n",
       "2  32.2          43.0                     181.0           1013.0   \n",
       "3  32.7          41.0                     178.0           1013.0   \n",
       "4  32.2          43.0                     181.0           1012.0   \n",
       "\n",
       "   Mean wind speed (knots * 10)  Average wind bearing (degrees)  \\\n",
       "0                          13.0                           315.0   \n",
       "1                          12.0                           315.0   \n",
       "2                           2.0                           315.0   \n",
       "3                           8.0                           225.0   \n",
       "4                          17.0                             0.0   \n",
       "\n",
       "   Sunshine (hours * 100)  Rainfall (mm * 1000)  Year  Month  \n",
       "0                      50                     0  1995      6  \n",
       "1                      51                     0  1995      6  \n",
       "2                      50                     0  1995      6  \n",
       "3                      51                     0  1995      6  \n",
       "4                      51                     0  1995      6  "
      ]
     },
     "execution_count": 10,
     "metadata": {},
     "output_type": "execute_result"
    }
   ],
   "source": [
    "df.describe().transpose()\n",
    "df.head(5)"
   ]
  },
  {
   "cell_type": "code",
   "execution_count": 11,
   "metadata": {},
   "outputs": [
    {
     "data": {
      "text/plain": [
       "355215   -40.0\n",
       "353110   -40.0\n",
       "353108   -40.0\n",
       "353107   -40.0\n",
       "353106   -40.0\n",
       "          ... \n",
       "353105    40.0\n",
       "353104    40.0\n",
       "353101    40.0\n",
       "353090    40.0\n",
       "353096    40.0\n",
       "Name: Temp, Length: 439229, dtype: float64"
      ]
     },
     "execution_count": 11,
     "metadata": {},
     "output_type": "execute_result"
    }
   ],
   "source": [
    "df['Temp'].sort_values()"
   ]
  },
  {
   "cell_type": "code",
   "execution_count": 12,
   "metadata": {},
   "outputs": [
    {
     "data": {
      "text/plain": [
       "<AxesSubplot:xlabel='Temp'>"
      ]
     },
     "execution_count": 12,
     "metadata": {},
     "output_type": "execute_result"
    },
    {
     "data": {
      "image/png": "[encoded data removed]",
      "text/plain": [
       "<Figure size 432x288 with 1 Axes>"
      ]
     },
     "metadata": {
      "needs_background": "light"
     },
     "output_type": "display_data"
    }
   ],
   "source": [
    "df.groupby('Temp').mean()['Humidity (%)'].plot()"
   ]
  },
  {
   "cell_type": "code",
   "execution_count": 13,
   "metadata": {
    "scrolled": true
   },
   "outputs": [
    {
     "data": {
      "text/plain": [
       "Humidity (%)                     -0.534227\n",
       "Year                             -0.071938\n",
       "Rainfall (mm * 1000)             -0.000086\n",
       "Average wind bearing (degrees)    0.015190\n",
       "Pressure (mBar)                   0.019545\n",
       "Sunshine (hours * 100)            0.058955\n",
       "Mean wind speed (knots * 10)      0.100512\n",
       "Month                             0.191085\n",
       "Dew Point (Celcius * 10)          0.798886\n",
       "Temp                              1.000000\n",
       "Name: Temp, dtype: float64"
      ]
     },
     "execution_count": 13,
     "metadata": {},
     "output_type": "execute_result"
    }
   ],
   "source": [
    "df.corr()['Temp'].sort_values()"
   ]
  },
  {
   "cell_type": "code",
   "execution_count": 14,
   "metadata": {
    "scrolled": true
   },
   "outputs": [
    {
     "data": {
      "text/plain": [
       "<AxesSubplot:>"
      ]
     },
     "execution_count": 14,
     "metadata": {},
     "output_type": "execute_result"
    },
    {
     "data": {
      "image/png": "[encoded data removed]",
      "text/plain": [
       "<Figure size 432x288 with 1 Axes>"
      ]
     },
     "metadata": {
      "needs_background": "light"
     },
     "output_type": "display_data"
    }
   ],
   "source": [
    "df.corr()['Temp'].sort_values().plot(kind='bar')"
   ]
  },
  {
   "cell_type": "code",
   "execution_count": 15,
   "metadata": {},
   "outputs": [],
   "source": [
    "X=df.drop('Temp',axis=1).values\n",
    "y=df['Temp'].values"
   ]
  },
  {
   "cell_type": "code",
   "execution_count": 16,
   "metadata": {},
   "outputs": [],
   "source": [
    "X_train, X_test, y_train, y_test = train_test_split(X, y, test_size=0.30, random_state=42)\n",
    "scaler=MinMaxScaler()\n",
    "X_train=scaler.fit_transform(X_train)\n",
    "X_test=scaler.transform(X_test)"
   ]
  },
  {
   "cell_type": "code",
   "execution_count": 46,
   "metadata": {},
   "outputs": [
    {
     "name": "stdout",
     "output_type": "stream",
     "text": [
      "Epoch 1/30\n",
      "9609/9609 [==============================] - 7s 652us/step - loss: 28.4545 - val_loss: 0.9195\n",
      "Epoch 2/30\n",
      "9609/9609 [==============================] - 6s 642us/step - loss: 0.9873 - val_loss: 0.8485\n",
      "Epoch 3/30\n",
      "9609/9609 [==============================] - 6s 669us/step - loss: 0.9333 - val_loss: 0.7689\n",
      "Epoch 4/30\n",
      "9609/9609 [==============================] - 8s 810us/step - loss: 0.7487 - val_loss: 0.6622\n",
      "Epoch 5/30\n",
      "9609/9609 [==============================] - 8s 801us/step - loss: 0.6323 - val_loss: 0.4462\n",
      "Epoch 6/30\n",
      "9609/9609 [==============================] - 8s 811us/step - loss: 0.4450 - val_loss: 0.4200\n",
      "Epoch 7/30\n",
      "9609/9609 [==============================] - 8s 805us/step - loss: 0.4374 - val_loss: 0.4238\n",
      "Epoch 8/30\n",
      "9609/9609 [==============================] - 8s 815us/step - loss: 0.3884 - val_loss: 0.3995\n",
      "Epoch 9/30\n",
      "9609/9609 [==============================] - 8s 813us/step - loss: 0.3892 - val_loss: 0.3984\n",
      "Epoch 10/30\n",
      "9609/9609 [==============================] - 8s 819us/step - loss: 0.4149 - val_loss: 0.3846\n",
      "Epoch 11/30\n",
      "9609/9609 [==============================] - 8s 883us/step - loss: 0.4310 - val_loss: 0.3757\n",
      "Epoch 12/30\n",
      "9609/9609 [==============================] - 9s 923us/step - loss: 0.3661 - val_loss: 0.3989\n",
      "Epoch 13/30\n",
      "9609/9609 [==============================] - 9s 891us/step - loss: 0.3988 - val_loss: 0.4149\n",
      "Epoch 14/30\n",
      "9609/9609 [==============================] - 8s 817us/step - loss: 0.4099 - val_loss: 0.4173\n",
      "Epoch 15/30\n",
      "9609/9609 [==============================] - 7s 721us/step - loss: 0.4042 - val_loss: 0.3894\n",
      "Epoch 16/30\n",
      "9609/9609 [==============================] - 7s 727us/step - loss: 0.3528 - val_loss: 0.3766\n",
      "Epoch 17/30\n",
      "9609/9609 [==============================] - 7s 734us/step - loss: 0.4358 - val_loss: 0.3504\n",
      "Epoch 18/30\n",
      "9609/9609 [==============================] - 7s 732us/step - loss: 0.4042 - val_loss: 0.3624\n",
      "Epoch 19/30\n",
      "9609/9609 [==============================] - 7s 740us/step - loss: 0.3893 - val_loss: 0.3549\n",
      "Epoch 20/30\n",
      "9609/9609 [==============================] - 7s 737us/step - loss: 0.3881 - val_loss: 0.3709\n",
      "Epoch 21/30\n",
      "9609/9609 [==============================] - 7s 774us/step - loss: 0.3529 - val_loss: 0.3552\n",
      "Epoch 22/30\n",
      "9609/9609 [==============================] - 7s 754us/step - loss: 0.3287 - val_loss: 0.3617\n",
      "Epoch 23/30\n",
      "9609/9609 [==============================] - 7s 722us/step - loss: 0.3664 - val_loss: 0.3732\n",
      "Epoch 24/30\n",
      "9609/9609 [==============================] - 7s 711us/step - loss: 0.4069 - val_loss: 0.6008\n",
      "Epoch 25/30\n",
      "9609/9609 [==============================] - 7s 719us/step - loss: 0.3553 - val_loss: 0.3502\n",
      "Epoch 26/30\n",
      "9609/9609 [==============================] - 7s 701us/step - loss: 0.3352 - val_loss: 0.3530\n",
      "Epoch 27/30\n",
      "9609/9609 [==============================] - 7s 729us/step - loss: 0.3379 - val_loss: 0.3555\n",
      "Epoch 28/30\n",
      "9609/9609 [==============================] - 7s 733us/step - loss: 0.3966 - val_loss: 0.3704\n",
      "Epoch 29/30\n",
      "9609/9609 [==============================] - 7s 728us/step - loss: 0.3496 - val_loss: 0.3536\n",
      "Epoch 30/30\n",
      "9609/9609 [==============================] - 7s 698us/step - loss: 0.3950 - val_loss: 0.3536\n"
     ]
    },
    {
     "data": {
      "text/plain": [
       "<tensorflow.python.keras.callbacks.History at 0x1750fb34760>"
      ]
     },
     "execution_count": 46,
     "metadata": {},
     "output_type": "execute_result"
    }
   ],
   "source": [
    "model=Sequential()\n",
    "model.add(Dense(9,activation='relu'))\n",
    "model.add(Dense(9,activation='relu'))\n",
    "model.add(Dense(9,activation='relu'))\n",
    "model.add(Dense(1,activation='relu'))\n",
    "model.compile(loss='mse',optimizer='adam')\n",
    "model.fit(x=X_train,y=y_train, epochs=30,validation_data=(X_test,y_test))"
   ]
  },
  {
   "cell_type": "code",
   "execution_count": 47,
   "metadata": {},
   "outputs": [],
   "source": [
    "losses=pd.DataFrame(model.history.history)"
   ]
  },
  {
   "cell_type": "code",
   "execution_count": 48,
   "metadata": {},
   "outputs": [
    {
     "data": {
      "text/plain": [
       "Text(0, 0.5, 'Loss')"
      ]
     },
     "execution_count": 48,
     "metadata": {},
     "output_type": "execute_result"
    },
    {
     "data": {
      "image/png": "[encoded data removed]",
      "text/plain": [
       "<Figure size 432x288 with 1 Axes>"
      ]
     },
     "metadata": {
      "needs_background": "light"
     },
     "output_type": "display_data"
    }
   ],
   "source": [
    "losses.plot()\n",
    "plt.title('Model Losses')\n",
    "plt.xlabel('Epoch')\n",
    "plt.ylabel('Loss')\n"
   ]
  },
  {
   "cell_type": "code",
   "execution_count": 49,
   "metadata": {},
   "outputs": [],
   "source": [
    "prediction=model.predict(X_test)"
   ]
  },
  {
   "cell_type": "code",
   "execution_count": 50,
   "metadata": {},
   "outputs": [
    {
     "data": {
      "text/plain": [
       "0.35357165803546275"
      ]
     },
     "execution_count": 50,
     "metadata": {},
     "output_type": "execute_result"
    }
   ],
   "source": [
    "mean_squared_error(y_test,prediction)"
   ]
  },
  {
   "cell_type": "code",
   "execution_count": 51,
   "metadata": {},
   "outputs": [],
   "source": [
    "RMSE=mean_squared_error(y_test,prediction, squared=False)"
   ]
  },
  {
   "cell_type": "code",
   "execution_count": 52,
   "metadata": {},
   "outputs": [
    {
     "name": "stdout",
     "output_type": "stream",
     "text": [
      "0.5946189183295993\n"
     ]
    }
   ],
   "source": [
    "print(RMSE)"
   ]
  },
  {
   "cell_type": "code",
   "execution_count": 64,
   "metadata": {},
   "outputs": [
    {
     "data": {
      "text/plain": [
       "Text(0, 0.5, 'Predicted Temperature(K)')"
      ]
     },
     "execution_count": 64,
     "metadata": {},
     "output_type": "execute_result"
    },
    {
     "data": {
      "image/png": "[encoded data removed]",
      "text/plain": [
       "<Figure size 864x432 with 1 Axes>"
      ]
     },
     "metadata": {
      "needs_background": "light"
     },
     "output_type": "display_data"
    }
   ],
   "source": [
    "plt.figure(figsize=(12,6))\n",
    "plt.scatter(y_test,prediction)\n",
    "plt.plot(y_test,y_test,'r')\n",
    "plt.title('Actual vs Prediction Temperature(K)')\n",
    "plt.xlabel('Actual Temperature(K)')\n",
    "plt.ylabel('Predicted Temperature(K)')\n"
   ]
  },
  {
   "cell_type": "code",
   "execution_count": 61,
   "metadata": {},
   "outputs": [],
   "source": [
    "single_value=df.drop('Temp',axis=1).iloc[0]"
   ]
  },
  {
   "cell_type": "code",
   "execution_count": 62,
   "metadata": {},
   "outputs": [
    {
     "data": {
      "text/plain": [
       "Humidity (%)                        36.0\n",
       "Dew Point (Celcius * 10)           140.0\n",
       "Pressure (mBar)                   1013.0\n",
       "Mean wind speed (knots * 10)        13.0\n",
       "Average wind bearing (degrees)     315.0\n",
       "Sunshine (hours * 100)              50.0\n",
       "Rainfall (mm * 1000)                 0.0\n",
       "Year                              1995.0\n",
       "Month                                6.0\n",
       "Prediction                           0.0\n",
       "Name: 0, dtype: float64"
      ]
     },
     "execution_count": 62,
     "metadata": {},
     "output_type": "execute_result"
    }
   ],
   "source": [
    "single_value"
   ]
  },
  {
   "cell_type": "code",
   "execution_count": 63,
   "metadata": {},
   "outputs": [
    {
     "ename": "ValueError",
     "evalue": "cannot reshape array of size 10 into shape (9)",
     "output_type": "error",
     "traceback": [
      "\u001b[1;31m---------------------------------------------------------------------------\u001b[0m",
      "\u001b[1;31mValueError\u001b[0m                                Traceback (most recent call last)",
      "\u001b[1;32m<ipython-input-63-38919c4d7837>\u001b[0m in \u001b[0;36m<module>\u001b[1;34m\u001b[0m\n\u001b[1;32m----> 1\u001b[1;33m \u001b[0msingle_value\u001b[0m\u001b[1;33m=\u001b[0m\u001b[0mscaler\u001b[0m\u001b[1;33m.\u001b[0m\u001b[0mtransform\u001b[0m\u001b[1;33m(\u001b[0m\u001b[0msingle_value\u001b[0m\u001b[1;33m.\u001b[0m\u001b[0mvalues\u001b[0m\u001b[1;33m.\u001b[0m\u001b[0mreshape\u001b[0m\u001b[1;33m(\u001b[0m\u001b[1;33m-\u001b[0m\u001b[1;36m1\u001b[0m\u001b[1;33m,\u001b[0m\u001b[1;36m9\u001b[0m\u001b[1;33m)\u001b[0m\u001b[1;33m)\u001b[0m\u001b[1;33m\u001b[0m\u001b[1;33m\u001b[0m\u001b[0m\n\u001b[0m",
      "\u001b[1;31mValueError\u001b[0m: cannot reshape array of size 10 into shape (9)"
     ]
    }
   ],
   "source": [
    "single_value=scaler.transform(single_value.values.reshape(-1,9))"
   ]
  },
  {
   "cell_type": "code",
   "execution_count": 29,
   "metadata": {},
   "outputs": [
    {
     "data": {
      "text/plain": [
       "array([[0.36      , 0.73188406, 0.87705628, 0.00866667, 1.        ,\n",
       "        0.00659457, 0.00125826, 0.        , 0.45454545]])"
      ]
     },
     "execution_count": 29,
     "metadata": {},
     "output_type": "execute_result"
    }
   ],
   "source": [
    "single_value"
   ]
  },
  {
   "cell_type": "code",
   "execution_count": 30,
   "metadata": {},
   "outputs": [
    {
     "data": {
      "text/html": [
       "<div>\n",
       "<style scoped>\n",
       "    .dataframe tbody tr th:only-of-type {\n",
       "        vertical-align: middle;\n",
       "    }\n",
       "\n",
       "    .dataframe tbody tr th {\n",
       "        vertical-align: top;\n",
       "    }\n",
       "\n",
       "    .dataframe thead th {\n",
       "        text-align: right;\n",
       "    }\n",
       "</style>\n",
       "<table border=\"1\" class=\"dataframe\">\n",
       "  <thead>\n",
       "    <tr style=\"text-align: right;\">\n",
       "      <th></th>\n",
       "      <th>Temp</th>\n",
       "      <th>Humidity (%)</th>\n",
       "      <th>Dew Point (Celcius * 10)</th>\n",
       "      <th>Pressure (mBar)</th>\n",
       "      <th>Mean wind speed (knots * 10)</th>\n",
       "      <th>Average wind bearing (degrees)</th>\n",
       "      <th>Sunshine (hours * 100)</th>\n",
       "      <th>Rainfall (mm * 1000)</th>\n",
       "      <th>Year</th>\n",
       "      <th>Month</th>\n",
       "    </tr>\n",
       "  </thead>\n",
       "  <tbody>\n",
       "    <tr>\n",
       "      <th>0</th>\n",
       "      <td>30.5</td>\n",
       "      <td>36.0</td>\n",
       "      <td>140.0</td>\n",
       "      <td>1013.0</td>\n",
       "      <td>13.0</td>\n",
       "      <td>315.0</td>\n",
       "      <td>50</td>\n",
       "      <td>0</td>\n",
       "      <td>1995</td>\n",
       "      <td>6</td>\n",
       "    </tr>\n",
       "  </tbody>\n",
       "</table>\n",
       "</div>"
      ],
      "text/plain": [
       "   Temp  Humidity (%)  Dew Point (Celcius * 10)  Pressure (mBar)  \\\n",
       "0  30.5          36.0                     140.0           1013.0   \n",
       "\n",
       "   Mean wind speed (knots * 10)  Average wind bearing (degrees)  \\\n",
       "0                          13.0                           315.0   \n",
       "\n",
       "   Sunshine (hours * 100)  Rainfall (mm * 1000)  Year  Month  \n",
       "0                      50                     0  1995      6  "
      ]
     },
     "execution_count": 30,
     "metadata": {},
     "output_type": "execute_result"
    }
   ],
   "source": [
    "df.head(1)"
   ]
  },
  {
   "cell_type": "code",
   "execution_count": 31,
   "metadata": {},
   "outputs": [
    {
     "data": {
      "text/plain": [
       "array([[0.]], dtype=float32)"
      ]
     },
     "execution_count": 31,
     "metadata": {},
     "output_type": "execute_result"
    }
   ],
   "source": [
    "model.predict(single_value)"
   ]
  },
  {
   "cell_type": "code",
   "execution_count": 32,
   "metadata": {},
   "outputs": [],
   "source": [
    "Temp=df['Temp']\n"
   ]
  },
  {
   "cell_type": "code",
   "execution_count": 33,
   "metadata": {},
   "outputs": [],
   "source": [
    "X_all=scaler.transform(X)"
   ]
  },
  {
   "cell_type": "code",
   "execution_count": 34,
   "metadata": {},
   "outputs": [],
   "source": [
    "all_prediction=model.predict(X_all)"
   ]
  },
  {
   "cell_type": "code",
   "execution_count": 35,
   "metadata": {},
   "outputs": [
    {
     "data": {
      "text/plain": [
       "(439229, 1)"
      ]
     },
     "execution_count": 35,
     "metadata": {},
     "output_type": "execute_result"
    }
   ],
   "source": [
    "all_prediction.shape"
   ]
  },
  {
   "cell_type": "code",
   "execution_count": 36,
   "metadata": {},
   "outputs": [
    {
     "data": {
      "text/plain": [
       "(131769, 1)"
      ]
     },
     "execution_count": 36,
     "metadata": {},
     "output_type": "execute_result"
    }
   ],
   "source": [
    "prediction.shape"
   ]
  },
  {
   "cell_type": "code",
   "execution_count": 37,
   "metadata": {},
   "outputs": [
    {
     "data": {
      "text/plain": [
       "[<matplotlib.lines.Line2D at 0x17507a654f0>]"
      ]
     },
     "execution_count": 37,
     "metadata": {},
     "output_type": "execute_result"
    },
    {
     "data": {
      "image/png": "[encoded data removed]",
      "text/plain": [
       "<Figure size 432x288 with 1 Axes>"
      ]
     },
     "metadata": {
      "needs_background": "light"
     },
     "output_type": "display_data"
    }
   ],
   "source": [
    "plt.scatter(Temp,all_prediction)\n",
    "plt.plot(Temp,Temp,'r')"
   ]
  },
  {
   "cell_type": "code",
   "execution_count": 38,
   "metadata": {},
   "outputs": [],
   "source": [
    "Prediction=pd.DataFrame(all_prediction)\n",
    "#df['Prediction']=df"
   ]
  },
  {
   "cell_type": "code",
   "execution_count": 39,
   "metadata": {},
   "outputs": [
    {
     "data": {
      "text/plain": [
       "pandas.core.frame.DataFrame"
      ]
     },
     "execution_count": 39,
     "metadata": {},
     "output_type": "execute_result"
    }
   ],
   "source": [
    "type(Prediction)"
   ]
  },
  {
   "cell_type": "code",
   "execution_count": 40,
   "metadata": {},
   "outputs": [],
   "source": [
    "df['Prediction']=Prediction"
   ]
  },
  {
   "cell_type": "code",
   "execution_count": 41,
   "metadata": {},
   "outputs": [
    {
     "data": {
      "text/html": [
       "<div>\n",
       "<style scoped>\n",
       "    .dataframe tbody tr th:only-of-type {\n",
       "        vertical-align: middle;\n",
       "    }\n",
       "\n",
       "    .dataframe tbody tr th {\n",
       "        vertical-align: top;\n",
       "    }\n",
       "\n",
       "    .dataframe thead th {\n",
       "        text-align: right;\n",
       "    }\n",
       "</style>\n",
       "<table border=\"1\" class=\"dataframe\">\n",
       "  <thead>\n",
       "    <tr style=\"text-align: right;\">\n",
       "      <th></th>\n",
       "      <th>Temp</th>\n",
       "      <th>Humidity (%)</th>\n",
       "      <th>Dew Point (Celcius * 10)</th>\n",
       "      <th>Pressure (mBar)</th>\n",
       "      <th>Mean wind speed (knots * 10)</th>\n",
       "      <th>Average wind bearing (degrees)</th>\n",
       "      <th>Sunshine (hours * 100)</th>\n",
       "      <th>Rainfall (mm * 1000)</th>\n",
       "      <th>Year</th>\n",
       "      <th>Month</th>\n",
       "      <th>Prediction</th>\n",
       "    </tr>\n",
       "  </thead>\n",
       "  <tbody>\n",
       "    <tr>\n",
       "      <th>0</th>\n",
       "      <td>30.5</td>\n",
       "      <td>36.0</td>\n",
       "      <td>140.0</td>\n",
       "      <td>1013.0</td>\n",
       "      <td>13.0</td>\n",
       "      <td>315.0</td>\n",
       "      <td>50</td>\n",
       "      <td>0</td>\n",
       "      <td>1995</td>\n",
       "      <td>6</td>\n",
       "      <td>0.0</td>\n",
       "    </tr>\n",
       "    <tr>\n",
       "      <th>1</th>\n",
       "      <td>31.1</td>\n",
       "      <td>41.0</td>\n",
       "      <td>163.0</td>\n",
       "      <td>1013.0</td>\n",
       "      <td>12.0</td>\n",
       "      <td>315.0</td>\n",
       "      <td>51</td>\n",
       "      <td>0</td>\n",
       "      <td>1995</td>\n",
       "      <td>6</td>\n",
       "      <td>0.0</td>\n",
       "    </tr>\n",
       "    <tr>\n",
       "      <th>2</th>\n",
       "      <td>32.2</td>\n",
       "      <td>43.0</td>\n",
       "      <td>181.0</td>\n",
       "      <td>1013.0</td>\n",
       "      <td>2.0</td>\n",
       "      <td>315.0</td>\n",
       "      <td>50</td>\n",
       "      <td>0</td>\n",
       "      <td>1995</td>\n",
       "      <td>6</td>\n",
       "      <td>0.0</td>\n",
       "    </tr>\n",
       "    <tr>\n",
       "      <th>3</th>\n",
       "      <td>32.7</td>\n",
       "      <td>41.0</td>\n",
       "      <td>178.0</td>\n",
       "      <td>1013.0</td>\n",
       "      <td>8.0</td>\n",
       "      <td>225.0</td>\n",
       "      <td>51</td>\n",
       "      <td>0</td>\n",
       "      <td>1995</td>\n",
       "      <td>6</td>\n",
       "      <td>0.0</td>\n",
       "    </tr>\n",
       "    <tr>\n",
       "      <th>4</th>\n",
       "      <td>32.2</td>\n",
       "      <td>43.0</td>\n",
       "      <td>181.0</td>\n",
       "      <td>1012.0</td>\n",
       "      <td>17.0</td>\n",
       "      <td>0.0</td>\n",
       "      <td>51</td>\n",
       "      <td>0</td>\n",
       "      <td>1995</td>\n",
       "      <td>6</td>\n",
       "      <td>0.0</td>\n",
       "    </tr>\n",
       "  </tbody>\n",
       "</table>\n",
       "</div>"
      ],
      "text/plain": [
       "   Temp  Humidity (%)  Dew Point (Celcius * 10)  Pressure (mBar)  \\\n",
       "0  30.5          36.0                     140.0           1013.0   \n",
       "1  31.1          41.0                     163.0           1013.0   \n",
       "2  32.2          43.0                     181.0           1013.0   \n",
       "3  32.7          41.0                     178.0           1013.0   \n",
       "4  32.2          43.0                     181.0           1012.0   \n",
       "\n",
       "   Mean wind speed (knots * 10)  Average wind bearing (degrees)  \\\n",
       "0                          13.0                           315.0   \n",
       "1                          12.0                           315.0   \n",
       "2                           2.0                           315.0   \n",
       "3                           8.0                           225.0   \n",
       "4                          17.0                             0.0   \n",
       "\n",
       "   Sunshine (hours * 100)  Rainfall (mm * 1000)  Year  Month  Prediction  \n",
       "0                      50                     0  1995      6         0.0  \n",
       "1                      51                     0  1995      6         0.0  \n",
       "2                      50                     0  1995      6         0.0  \n",
       "3                      51                     0  1995      6         0.0  \n",
       "4                      51                     0  1995      6         0.0  "
      ]
     },
     "execution_count": 41,
     "metadata": {},
     "output_type": "execute_result"
    }
   ],
   "source": [
    "df.head(5)"
   ]
  },
  {
   "cell_type": "code",
   "execution_count": 42,
   "metadata": {},
   "outputs": [
    {
     "data": {
      "text/plain": [
       "<AxesSubplot:>"
      ]
     },
     "execution_count": 42,
     "metadata": {},
     "output_type": "execute_result"
    },
    {
     "data": {
      "image/png": "[encoded data removed]",
      "text/plain": [
       "<Figure size 432x288 with 1 Axes>"
      ]
     },
     "metadata": {
      "needs_background": "light"
     },
     "output_type": "display_data"
    }
   ],
   "source": [
    "df.corr()['Prediction'].sort_values().plot(kind='bar')"
   ]
  },
  {
   "cell_type": "code",
   "execution_count": 43,
   "metadata": {},
   "outputs": [
    {
     "data": {
      "text/plain": [
       "Temp                             NaN\n",
       "Humidity (%)                     NaN\n",
       "Dew Point (Celcius * 10)         NaN\n",
       "Pressure (mBar)                  NaN\n",
       "Mean wind speed (knots * 10)     NaN\n",
       "Average wind bearing (degrees)   NaN\n",
       "Sunshine (hours * 100)           NaN\n",
       "Rainfall (mm * 1000)             NaN\n",
       "Year                             NaN\n",
       "Month                            NaN\n",
       "Prediction                       NaN\n",
       "Name: Prediction, dtype: float64"
      ]
     },
     "execution_count": 43,
     "metadata": {},
     "output_type": "execute_result"
    }
   ],
   "source": [
    "df.corr()['Prediction'].sort_values()"
   ]
  },
  {
   "cell_type": "code",
   "execution_count": 44,
   "metadata": {},
   "outputs": [],
   "source": [
    "model.save('Toyon_Weather_ANN.h5')"
   ]
  },
  {
   "cell_type": "code",
   "execution_count": null,
   "metadata": {},
   "outputs": [],
   "source": []
  }
 ],
 "metadata": {
  "kernelspec": {
   "display_name": "Python 3",
   "language": "python",
   "name": "python3"
  },
  "language_info": {
   "codemirror_mode": {
    "name": "ipython",
    "version": 3
   },
   "file_extension": ".py",
   "mimetype": "text/x-python",
   "name": "python",
   "nbconvert_exporter": "python",
   "pygments_lexer": "ipython3",
   "version": "3.8.5"
  }
 },
 "nbformat": 4,
 "nbformat_minor": 4
}
